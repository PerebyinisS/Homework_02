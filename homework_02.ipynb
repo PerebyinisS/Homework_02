{
 "cells": [
  {
   "cell_type": "code",
   "execution_count": 1,
   "metadata": {},
   "outputs": [
    {
     "name": "stdout",
     "output_type": "stream",
     "text": [
      "Input a\n",
      "4\n",
      "Input b\n",
      "4\n",
      "Число A є додатнє\n",
      "True\n",
      "Число A парне\n",
      "True\n",
      "Число A кратне 13\n",
      "False\n",
      "Кожне із чисел A та B - парне\n",
      "True\n",
      "Кожне із чисел A та B мають однакову парність\n",
      "True\n"
     ]
    }
   ],
   "source": [
    "#Homework_02.1\n",
    "print ('Input a')\n",
    "a= int(input())\n",
    "print ('Input b')\n",
    "b= int(input())\n",
    "print ('Число A є додатнє')\n",
    "print (a>0)\n",
    "print ('Число A парне')\n",
    "print (a%2==0)\n",
    "print ('Число A кратне 13')\n",
    "print (a%13==0)\n",
    "print ('Кожне із чисел A та B - парне')\n",
    "print (a%2==0 and b%2==0)\n",
    "print ('Кожне із чисел A та B мають однакову парність')\n",
    "print (a%2==b%2)"
   ]
  },
  {
   "cell_type": "code",
   "execution_count": 9,
   "metadata": {},
   "outputs": [
    {
     "name": "stdout",
     "output_type": "stream",
     "text": [
      "Input password\n",
      "@#ddd\n",
      "False\n"
     ]
    }
   ],
   "source": [
    "#Homework_02.2\n",
    "print ('Input password')\n",
    "str = input()\n",
    "print (len(str)>=8 and (str.count('@')>0 or str.count('#')>0))"
   ]
  },
  {
   "cell_type": "code",
   "execution_count": 13,
   "metadata": {},
   "outputs": [
    {
     "name": "stdout",
     "output_type": "stream",
     "text": [
      "Input character\n",
      "b\n",
      "Left char is\n",
      "a\n",
      "Right char is\n",
      "c\n"
     ]
    }
   ],
   "source": [
    "#Homework_02.3\n",
    "print ('Input character')\n",
    "ch = input()\n",
    "print ('Left char is')\n",
    "print (chr(ord(ch) - 1))\n",
    "print ('Right char is')\n",
    "print (chr(ord(ch) + 1))"
   ]
  },
  {
   "cell_type": "code",
   "execution_count": 21,
   "metadata": {},
   "outputs": [
    {
     "name": "stdout",
     "output_type": "stream",
     "text": [
      "Input string\n",
      "qwerty asdfgh\n",
      "hgfdsa ytrewq\n"
     ]
    }
   ],
   "source": [
    "#Homework_02.4\n",
    "print ('Input string')\n",
    "original_string = input()\n",
    "x= original_string.split (' ')\n",
    "word1= x[0]\n",
    "word2= x[1]\n",
    "print (word2[::-1] + ' ' +word1[::-1])"
   ]
  },
  {
   "cell_type": "code",
   "execution_count": null,
   "metadata": {},
   "outputs": [],
   "source": []
  }
 ],
 "metadata": {
  "kernelspec": {
   "display_name": "Python 3",
   "language": "python",
   "name": "python3"
  },
  "language_info": {
   "codemirror_mode": {
    "name": "ipython",
    "version": 3
   },
   "file_extension": ".py",
   "mimetype": "text/x-python",
   "name": "python",
   "nbconvert_exporter": "python",
   "pygments_lexer": "ipython3",
   "version": "3.8.3"
  }
 },
 "nbformat": 4,
 "nbformat_minor": 4
}
